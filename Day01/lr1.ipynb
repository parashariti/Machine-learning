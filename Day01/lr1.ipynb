{
 "cells": [
  {
   "cell_type": "markdown",
   "id": "2827142b-3215-4c8b-a707-cab3954664bb",
   "metadata": {},
   "source": [
    "Main aim of Linear Regression is to find a real number or a continous value Y (Continous in terms of electronic signals).\n",
    "So here we will generate a random dataset using equation **Y = MX + C**. Then we will move on to other sample datasets.\n",
    "\n",
    "### Steps we will follow\n",
    "1. Split the data into Training data and testing data\n",
    "2. Use the training data to fit the model\n",
    "3. Predict the Output for Test data\n",
    "4. Get the score\n",
    "5. Get Intercept and coeficient"
   ]
  },
  {
   "cell_type": "code",
   "execution_count": 1,
   "id": "029c3a6c-8b33-4ccb-95ca-61353808b4ff",
   "metadata": {},
   "outputs": [],
   "source": [
    "# Import Sklearn\n",
    "from sklearn import linear_model"
   ]
  },
  {
   "cell_type": "code",
   "execution_count": 2,
   "id": "255a2197-adc6-40a4-b435-00994e4ea12f",
   "metadata": {},
   "outputs": [],
   "source": [
    "# Create the data \n",
    "# we will be using for loop to create the dataset\n",
    "# X will hold input data\n",
    "X = []\n",
    "# Y will hold output\n",
    "Y = []\n",
    "\n",
    "# Here we are setting M and C some random value, Our model will predict this value after we fit the model\n",
    "M = 1.4356\n",
    "C = 3.5678\n",
    "for i in range(0, 200):\n",
    "    X.append(i)\n",
    "    y = M * i + C\n",
    "    Y.append(y)\n",
    "    "
   ]
  },
  {
   "cell_type": "code",
   "execution_count": 3,
   "id": "1b02f7d6-8a4d-4f4e-ad2c-a102de1cc380",
   "metadata": {},
   "outputs": [
    {
     "data": {
      "text/plain": [
       "[0, 1, 2, 3, 4]"
      ]
     },
     "execution_count": 3,
     "metadata": {},
     "output_type": "execute_result"
    }
   ],
   "source": [
    "# Here we can check X and Y\n",
    "# only show top 5 results\n",
    "X[0:5]"
   ]
  },
  {
   "cell_type": "code",
   "execution_count": 4,
   "id": "b96083bd-4f82-4316-afee-af4c58570798",
   "metadata": {},
   "outputs": [
    {
     "data": {
      "text/plain": [
       "[3.5678, 5.0034, 6.439, 7.8746, 9.3102]"
      ]
     },
     "execution_count": 4,
     "metadata": {},
     "output_type": "execute_result"
    }
   ],
   "source": [
    "Y[0:5]"
   ]
  },
  {
   "cell_type": "markdown",
   "id": "6ba09f16-007f-4561-a424-d6d26e5846a1",
   "metadata": {
    "scrolled": true
   },
   "source": [
    "Now the data has been generated we will divide the data between training data and test data. We will use 30 percent ration between \n",
    "train and test data. 30% of 200 is 60. SO 140 values will in training dataset and 60 in test dataset."
   ]
  },
  {
   "cell_type": "code",
   "execution_count": 5,
   "id": "7b22982e-5ea9-43be-b683-2974522c656b",
   "metadata": {},
   "outputs": [],
   "source": [
    "X_train, X_test = X[0:140], X[140:]\n",
    "Y_train, Y_test = Y[0:140], Y[140:]"
   ]
  },
  {
   "cell_type": "code",
   "execution_count": 6,
   "id": "7229d11b-1786-432f-877e-69c767c88953",
   "metadata": {},
   "outputs": [
    {
     "name": "stdout",
     "output_type": "stream",
     "text": [
      "Train data length 140 140\n",
      "Test data length 60 60\n"
     ]
    }
   ],
   "source": [
    "# Now we can check length of each data to verify our data is splited or not\n",
    "print(\"Train data length \" + str(len(X_train)) + \" \" + str(len(Y_train)))\n",
    "print(\"Test data length \" + str(len(X_test)) + \" \" + str(len(Y_test)))"
   ]
  },
  {
   "cell_type": "code",
   "execution_count": 7,
   "id": "00a0e52f-798f-41c4-ac41-e8396479cd21",
   "metadata": {},
   "outputs": [],
   "source": [
    "# Create object of model\n",
    "model = linear_model.LinearRegression()"
   ]
  },
  {
   "cell_type": "markdown",
   "id": "b6e439c6-2389-453f-bf51-7036c2857d68",
   "metadata": {},
   "source": [
    "The Linear regression model has a method call **fit** which takes input X and Y and will train the model\n",
    "Since it is linear model Y should be a list containing single value in each row. X should be an array of samples.\n",
    "\n",
    "#### For example\n",
    "suppose equation is Y = w0 + w1* X1 + w2* X2 + w3*X3\n",
    "So input data for this equation should contain Three values **X1 X2 X3**\n",
    "and to feed the model this data it should be in the following format\n",
    "\n",
    "`\n",
    "[\n",
    "[X1a, X2a, X3a]\n",
    "[X1b, X2b, X3b]\n",
    "[X1c, X2c, X3c]\n",
    "[X1d, X2d, X3d]\n",
    "]\n",
    "`\n",
    "\n",
    "Here a, b, c ,d represents row of the data. One more representation\n",
    "\n",
    "|X1|X2|X3|Y|\n",
    "|--|--|--|--|\n",
    "|1|2|3|7|\n",
    "|3|4|6|10|\n",
    "\n",
    "So For X we have data in this form \n",
    "\n",
    "[0,1,2,3,4 ...]\n",
    "\n",
    "and we need data in this form\n",
    "\n",
    "[[0], [1], [2], [4], ....]\n",
    "\n",
    "To convert data we will use numpy"
   ]
  },
  {
   "cell_type": "code",
   "execution_count": 8,
   "id": "f90d8066-dc7b-4221-b18c-6ea57231b6da",
   "metadata": {},
   "outputs": [],
   "source": [
    "import numpy as np"
   ]
  },
  {
   "cell_type": "code",
   "execution_count": 9,
   "id": "ac0d5c07-00a4-44db-9ede-ba188750e629",
   "metadata": {},
   "outputs": [],
   "source": [
    "X_train, X_test = np.array(X_train).reshape(-1,1),np.array(X_test).reshape(-1,1) "
   ]
  },
  {
   "cell_type": "code",
   "execution_count": 10,
   "id": "7ed11464-10be-485d-a384-2c190c149684",
   "metadata": {},
   "outputs": [
    {
     "data": {
      "text/html": [
       "<style>#sk-container-id-1 {color: black;}#sk-container-id-1 pre{padding: 0;}#sk-container-id-1 div.sk-toggleable {background-color: white;}#sk-container-id-1 label.sk-toggleable__label {cursor: pointer;display: block;width: 100%;margin-bottom: 0;padding: 0.3em;box-sizing: border-box;text-align: center;}#sk-container-id-1 label.sk-toggleable__label-arrow:before {content: \"▸\";float: left;margin-right: 0.25em;color: #696969;}#sk-container-id-1 label.sk-toggleable__label-arrow:hover:before {color: black;}#sk-container-id-1 div.sk-estimator:hover label.sk-toggleable__label-arrow:before {color: black;}#sk-container-id-1 div.sk-toggleable__content {max-height: 0;max-width: 0;overflow: hidden;text-align: left;background-color: #f0f8ff;}#sk-container-id-1 div.sk-toggleable__content pre {margin: 0.2em;color: black;border-radius: 0.25em;background-color: #f0f8ff;}#sk-container-id-1 input.sk-toggleable__control:checked~div.sk-toggleable__content {max-height: 200px;max-width: 100%;overflow: auto;}#sk-container-id-1 input.sk-toggleable__control:checked~label.sk-toggleable__label-arrow:before {content: \"▾\";}#sk-container-id-1 div.sk-estimator input.sk-toggleable__control:checked~label.sk-toggleable__label {background-color: #d4ebff;}#sk-container-id-1 div.sk-label input.sk-toggleable__control:checked~label.sk-toggleable__label {background-color: #d4ebff;}#sk-container-id-1 input.sk-hidden--visually {border: 0;clip: rect(1px 1px 1px 1px);clip: rect(1px, 1px, 1px, 1px);height: 1px;margin: -1px;overflow: hidden;padding: 0;position: absolute;width: 1px;}#sk-container-id-1 div.sk-estimator {font-family: monospace;background-color: #f0f8ff;border: 1px dotted black;border-radius: 0.25em;box-sizing: border-box;margin-bottom: 0.5em;}#sk-container-id-1 div.sk-estimator:hover {background-color: #d4ebff;}#sk-container-id-1 div.sk-parallel-item::after {content: \"\";width: 100%;border-bottom: 1px solid gray;flex-grow: 1;}#sk-container-id-1 div.sk-label:hover label.sk-toggleable__label {background-color: #d4ebff;}#sk-container-id-1 div.sk-serial::before {content: \"\";position: absolute;border-left: 1px solid gray;box-sizing: border-box;top: 0;bottom: 0;left: 50%;z-index: 0;}#sk-container-id-1 div.sk-serial {display: flex;flex-direction: column;align-items: center;background-color: white;padding-right: 0.2em;padding-left: 0.2em;position: relative;}#sk-container-id-1 div.sk-item {position: relative;z-index: 1;}#sk-container-id-1 div.sk-parallel {display: flex;align-items: stretch;justify-content: center;background-color: white;position: relative;}#sk-container-id-1 div.sk-item::before, #sk-container-id-1 div.sk-parallel-item::before {content: \"\";position: absolute;border-left: 1px solid gray;box-sizing: border-box;top: 0;bottom: 0;left: 50%;z-index: -1;}#sk-container-id-1 div.sk-parallel-item {display: flex;flex-direction: column;z-index: 1;position: relative;background-color: white;}#sk-container-id-1 div.sk-parallel-item:first-child::after {align-self: flex-end;width: 50%;}#sk-container-id-1 div.sk-parallel-item:last-child::after {align-self: flex-start;width: 50%;}#sk-container-id-1 div.sk-parallel-item:only-child::after {width: 0;}#sk-container-id-1 div.sk-dashed-wrapped {border: 1px dashed gray;margin: 0 0.4em 0.5em 0.4em;box-sizing: border-box;padding-bottom: 0.4em;background-color: white;}#sk-container-id-1 div.sk-label label {font-family: monospace;font-weight: bold;display: inline-block;line-height: 1.2em;}#sk-container-id-1 div.sk-label-container {text-align: center;}#sk-container-id-1 div.sk-container {/* jupyter's `normalize.less` sets `[hidden] { display: none; }` but bootstrap.min.css set `[hidden] { display: none !important; }` so we also need the `!important` here to be able to override the default hidden behavior on the sphinx rendered scikit-learn.org. See: https://github.com/scikit-learn/scikit-learn/issues/21755 */display: inline-block !important;position: relative;}#sk-container-id-1 div.sk-text-repr-fallback {display: none;}</style><div id=\"sk-container-id-1\" class=\"sk-top-container\"><div class=\"sk-text-repr-fallback\"><pre>LinearRegression()</pre><b>In a Jupyter environment, please rerun this cell to show the HTML representation or trust the notebook. <br />On GitHub, the HTML representation is unable to render, please try loading this page with nbviewer.org.</b></div><div class=\"sk-container\" hidden><div class=\"sk-item\"><div class=\"sk-estimator sk-toggleable\"><input class=\"sk-toggleable__control sk-hidden--visually\" id=\"sk-estimator-id-1\" type=\"checkbox\" checked><label for=\"sk-estimator-id-1\" class=\"sk-toggleable__label sk-toggleable__label-arrow\">LinearRegression</label><div class=\"sk-toggleable__content\"><pre>LinearRegression()</pre></div></div></div></div></div>"
      ],
      "text/plain": [
       "LinearRegression()"
      ]
     },
     "execution_count": 10,
     "metadata": {},
     "output_type": "execute_result"
    }
   ],
   "source": [
    "# Now we will fit the data\n",
    "model.fit(X_train, Y_train)"
   ]
  },
  {
   "cell_type": "code",
   "execution_count": 11,
   "id": "fc7a6545-65ce-494c-ad24-1428541ccccf",
   "metadata": {},
   "outputs": [
    {
     "data": {
      "text/plain": [
       "array([1.4356])"
      ]
     },
     "execution_count": 11,
     "metadata": {},
     "output_type": "execute_result"
    }
   ],
   "source": [
    "# Now we can check the coeficient and intercept if the model is successfully determined it\n",
    "model.coef_"
   ]
  },
  {
   "cell_type": "code",
   "execution_count": 12,
   "id": "7ac24452-aa93-42d0-be7e-4bee7c5ccce8",
   "metadata": {},
   "outputs": [
    {
     "data": {
      "text/plain": [
       "3.5678000000000196"
      ]
     },
     "execution_count": 12,
     "metadata": {},
     "output_type": "execute_result"
    }
   ],
   "source": [
    "model.intercept_"
   ]
  },
  {
   "cell_type": "markdown",
   "id": "fa9fd732-3118-4a56-8e64-a673285722aa",
   "metadata": {},
   "source": [
    "If you can verify with above data we can check that model is successfull in determining M and C"
   ]
  },
  {
   "cell_type": "code",
   "execution_count": 13,
   "id": "400ddec3-a325-4e60-a716-35c3f2958e78",
   "metadata": {},
   "outputs": [],
   "source": [
    "# Now predit\n",
    "y_pred = model.predict(X_test)"
   ]
  },
  {
   "cell_type": "code",
   "execution_count": 14,
   "id": "e5059048-80b5-4493-97a3-cba88417fbab",
   "metadata": {},
   "outputs": [
    {
     "name": "stdout",
     "output_type": "stream",
     "text": [
      "Predcited output: 249.05540000000002\n",
      "Predcited output: 249.0554\n"
     ]
    }
   ],
   "source": [
    "# IF you check compare predicted output and test output we can check how well the model has performed\n",
    "# Here we are choosing some random index\n",
    "print(\"Predcited output: \" + str(y_pred[31]))\n",
    "print(\"Predcited output: \" + str(Y_test[31]))"
   ]
  },
  {
   "cell_type": "code",
   "execution_count": 15,
   "id": "7f3f4899-a8fb-4fe2-8c73-b47d825f9e83",
   "metadata": {},
   "outputs": [
    {
     "data": {
      "text/plain": [
       "1.0"
      ]
     },
     "execution_count": 15,
     "metadata": {},
     "output_type": "execute_result"
    }
   ],
   "source": [
    "# check the model score\n",
    "# Score takes Test data as input and actual test output values and instead of calculating predictions\n",
    "# it will calculate the percentage accuracy of model\n",
    "# 1.0 means model is 100 % accurate based on test data\n",
    "model.score(X_test, Y_test)"
   ]
  }
 ],
 "metadata": {
  "kernelspec": {
   "display_name": "Python 3 (ipykernel)",
   "language": "python",
   "name": "python3"
  },
  "language_info": {
   "codemirror_mode": {
    "name": "ipython",
    "version": 3
   },
   "file_extension": ".py",
   "mimetype": "text/x-python",
   "name": "python",
   "nbconvert_exporter": "python",
   "pygments_lexer": "ipython3",
   "version": "3.11.4"
  }
 },
 "nbformat": 4,
 "nbformat_minor": 5
}
